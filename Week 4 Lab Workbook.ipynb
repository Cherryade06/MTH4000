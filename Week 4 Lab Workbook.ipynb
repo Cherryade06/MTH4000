{
 "cells": [
  {
   "cell_type": "markdown",
   "metadata": {},
   "source": [
    "<h1> MTH4000 Programming in Python I</h1>\n",
    "<h2> Week 4 Lab Workbook</h2>\n",
    "<h3><em> Dr Matthew Lewis and Prof. Thomas Prellberg </em></h3>"
   ]
  },
  {
   "cell_type": "markdown",
   "metadata": {},
   "source": [
    "<h2> Exercise 1: <em>Mean Question</em> </h2>\n",
    "\n",
    "In this exercise, we will construct implementations of several common kinds of averaging methods.  That is, common formulae for deriving values that are representative of sets of data.  We begin with (arguably) the most common kind, the <em>arithmetic mean</em>.\n",
    "\n",
    "Given a sequence of numbers $x_1, x_2, \\ldots, x_n$, the arithmetic mean is defined by\n",
    "\n",
    "$$\\frac{1}{n}\\sum_{k=1}^n x_k\\;.$$\n",
    "\n",
    "We can use our new understanding of Python functions to construct an implementation of this formula in the following way:"
   ]
  },
  {
   "cell_type": "code",
   "execution_count": null,
   "metadata": {},
   "outputs": [],
   "source": [
    "def arithmetic_mean(x): \n",
    "    n = len(x)\n",
    "    mean = sum(x)/n\n",
    "    return mean"
   ]
  },
  {
   "cell_type": "markdown",
   "metadata": {},
   "source": [
    "Note that the use of the <code>len</code> and <code>sum</code> functions in the definition tells us that <code>arithmetic_mean</code> expects a sequence-type object as input.  We have seen three sequence data types so far; lists, tuples and ranges.\n",
    "\n",
    "Call the function with one such data type to evaluate the arithmetic mean of the sequence <br><samp>8, 1, 5, 3, 2, 5</samp>."
   ]
  },
  {
   "cell_type": "code",
   "execution_count": null,
   "metadata": {},
   "outputs": [],
   "source": []
  },
  {
   "cell_type": "markdown",
   "metadata": {},
   "source": [
    "All appears well, but the function <em>arithmetic_mean</em> does not have a documentation string.  This means that another user would be unable to determine what our function does.\n",
    "\n",
    "Modify the code in the definition of <code>arithmetic_mean</code> above to include a docstring.  The docstring should include the types of data the function accepts, the type of data it returns, and the meaning behind the returned data.\n",
    "\n",
    "If the docstring has been written correctly, then it should appear in the call given in the box below."
   ]
  },
  {
   "cell_type": "code",
   "execution_count": null,
   "metadata": {},
   "outputs": [],
   "source": [
    "help(arithmetic_mean)"
   ]
  },
  {
   "cell_type": "markdown",
   "metadata": {},
   "source": [
    "We can now move onto our next kind of mean, the <em>geometric mean</em>.  The geometric mean of a sequence of positive integers $x_1, x_2, \\ldots, x_n$ is given by\n",
    "\n",
    "$$\\sqrt[n]{\\prod_{k=1}^n x_k}\\;.$$\n",
    "\n",
    "Implement this formulation of the geometric mean as a function in the box below.  Your function should be given the name <code>geometric_mean</code>.\n",
    "\n",
    "(<b>Hint: </b> The $\\Pi$ notation refers to the product of all values $x_k\\;$, and so you should either construct a loop to evaluate this product, or find a module that has a function that computes the product of a sequence.)"
   ]
  },
  {
   "cell_type": "code",
   "execution_count": null,
   "metadata": {},
   "outputs": [],
   "source": []
  },
  {
   "cell_type": "markdown",
   "metadata": {},
   "source": [
    "Test your function by evaluating the geometric mean of the sequence <samp>1, 4, 1, 4, 2, 1, 3</samp>."
   ]
  },
  {
   "cell_type": "code",
   "execution_count": null,
   "metadata": {},
   "outputs": [],
   "source": []
  },
  {
   "cell_type": "markdown",
   "metadata": {},
   "source": [
    "Finally, we can implement our final kind of mean, the <em>harmonic mean</em>.  The harmonic mean of a sequence $x_1, x_2, \\ldots, x_n$ is given by\n",
    "\n",
    "$$\\frac {n}{\\sum\\limits_{k=1}^n \\dfrac1{x_k}}\\;.$$\n",
    "\n",
    "In the box below, define a function <code>harmonic_mean</code> that accepts a sequence-type object and returns the harmonic mean of that sequence."
   ]
  },
  {
   "cell_type": "code",
   "execution_count": null,
   "metadata": {},
   "outputs": [],
   "source": []
  },
  {
   "cell_type": "markdown",
   "metadata": {},
   "source": [
    "Test this implementation by evaluating the harmonic mean of the sequence <samp>1, 3, 5, ..., 99</samp>."
   ]
  },
  {
   "cell_type": "code",
   "execution_count": null,
   "metadata": {},
   "outputs": [],
   "source": []
  },
  {
   "cell_type": "markdown",
   "metadata": {},
   "source": [
    "We conclude with some numerical experimentation.  Fix a sequence and compare the values returned by all three different kinds of mean.  Which mean seems to return the largest values, which the smallest?"
   ]
  },
  {
   "cell_type": "code",
   "execution_count": null,
   "metadata": {},
   "outputs": [],
   "source": []
  },
  {
   "cell_type": "code",
   "execution_count": null,
   "metadata": {},
   "outputs": [],
   "source": []
  },
  {
   "cell_type": "code",
   "execution_count": null,
   "metadata": {},
   "outputs": [],
   "source": []
  },
  {
   "cell_type": "markdown",
   "metadata": {},
   "source": [
    "<h2> Exercise 2: <em>Linear Transformations</em> </h2>\n",
    "\n",
    "The code below defines two lists, <code>x</code> and <code>y</code>:"
   ]
  },
  {
   "cell_type": "code",
   "execution_count": null,
   "metadata": {},
   "outputs": [],
   "source": [
    "x = [1, 4, -1]\n",
    "y = [0, -2, 3]"
   ]
  },
  {
   "cell_type": "markdown",
   "metadata": {},
   "source": [
    "If each of these lists corresponds to a single three-dimensional vector, then for a pair of values $a , b \\in\\mathbb{R}$, we can compute a list corresponding to the vector $ax+by$ as follows:"
   ]
  },
  {
   "cell_type": "code",
   "execution_count": null,
   "metadata": {},
   "outputs": [],
   "source": [
    "a = 3\n",
    "b = 2\n",
    "\n",
    "[a*x[i]+b*y[i] for i in range(len(x))]"
   ]
  },
  {
   "cell_type": "markdown",
   "metadata": {},
   "source": [
    "Write a function <code>linear_combination</code> which takes any two lists, <code>x</code> and <code>y</code>, and any two floats <code>a</code> and <code>b</code>, and returns the list corresponding to the vector $ax+by$."
   ]
  },
  {
   "cell_type": "code",
   "execution_count": null,
   "metadata": {},
   "outputs": [],
   "source": []
  },
  {
   "cell_type": "markdown",
   "metadata": {},
   "source": [
    "The code below plots a circle centred at the origin."
   ]
  },
  {
   "cell_type": "code",
   "execution_count": null,
   "metadata": {},
   "outputs": [],
   "source": [
    "import numpy as np\n",
    "import matplotlib.pyplot as plt\n",
    "\n",
    "x = [np.cos(2*i*np.pi/1000) for i in range(1001)]\n",
    "y = [np.sin(2*i*np.pi/1000) for i in range(1001)]\n",
    "\n",
    "plt.plot(x, y)\n",
    "plt.gca().axis('equal')\n",
    "plt.show()"
   ]
  },
  {
   "cell_type": "markdown",
   "metadata": {},
   "source": [
    "Apply the function <code>linear_combination</code> to the list of $y$-values in the <code>plot</code> function to deform this circle into an ellipse.  The transformation should use values $a=0.8$ and $b=0.3$.\n",
    "\n",
    "(<b>Note: </b> It is not necessary to change the values of the lists <code>x</code> and <code>y</code>.)"
   ]
  },
  {
   "cell_type": "code",
   "execution_count": null,
   "metadata": {},
   "outputs": [],
   "source": []
  },
  {
   "cell_type": "markdown",
   "metadata": {},
   "source": [
    "The code below plots a figure of a stretched-out smiley face."
   ]
  },
  {
   "cell_type": "code",
   "execution_count": null,
   "metadata": {},
   "outputs": [],
   "source": [
    "x1 = np.linspace(-1, 1, 1000) # x-values for the first two plots\n",
    "x2 = np.linspace(-0.5, 0.5, 1000) # x-values for the third plot\n",
    "x3 = [-0.4, 0.4] # x-values for the fourth plot\n",
    "\n",
    "plt.plot(x1, 1.8*x1+2*(1-x1**2)**0.5, color='blue') # upper head\n",
    "plt.plot(x1, 1.8*x1-2*(1-x1**2)**0.5, color='blue') # lower head\n",
    "plt.plot(x2, 1.6*(x2**2)+1.8*x2-0.9, linewidth=2, color='blue') # smile\n",
    "plt.plot(x3, [0.18,1.62], 'o', markersize=8, color='blue') # eyes\n",
    "\n",
    "plt.axis('equal')\n",
    "plt.show()"
   ]
  },
  {
   "cell_type": "markdown",
   "metadata": {},
   "source": [
    "Copy-and-paste this code into the box below, and modify it by applying the <code>linear_combination</code> function to the $y$-values in each plot, with $a=-0.9$ and $b=0.5$.  \n",
    "\n",
    "(<b>Hint: </b> You will need to use the corresponding $x$-values each time you call the function, but the $x$-values themselves must remain unchanged.)"
   ]
  },
  {
   "cell_type": "code",
   "execution_count": null,
   "metadata": {},
   "outputs": [],
   "source": []
  },
  {
   "cell_type": "markdown",
   "metadata": {},
   "source": [
    "<h2> Exercise 3: <em>Continued Fractions</em> </h2>\n",
    "\n",
    "In last week's workbook, we introduced the continued fraction expansion of the golden ratio $\\varphi$,\n",
    "\n",
    "$$\\varphi = 1 + \\cfrac{1}{1 + \\cfrac{1}{1 + \\cfrac{1}{1 + \\ddots}}}\\;.$$\n",
    "\n",
    "A <a href=\"https://en.wikipedia.org/wiki/Continued_fraction\">continued fraction</a> is a way of expressing a real value through an iterative process of deconstructing terms as the sum of their integer parts and the reciprocal of another value.\n",
    "\n",
    "In general, the continued fraction expansion of some value $x\\in\\mathbb{R}$ is given by\n",
    "\n",
    "$$x = x_0 + \\cfrac{1}{x_1 + \\cfrac{1}{x_2 + \\cfrac{1}{x_3 + \\ddots}}}\\;,$$\n",
    "\n",
    "where the values $x_0, x_1, \\ldots,$ form a sequence of integers called the <em>coefficients</em> of the continued fraction of $x$.\n",
    "\n",
    "We begin by attempting to convert a sequence of coefficients into the value of the continued fraction that they produce.  In the box below, there is a list <code>l</code> containing the first six coefficients of a continued fraction.  Run this box to initialise all of the relevant data."
   ]
  },
  {
   "cell_type": "code",
   "execution_count": null,
   "metadata": {},
   "outputs": [],
   "source": [
    "l = [2, 1, 2, 1, 1, 4]\n",
    "\n",
    "i = len(l)-1\n",
    "x = l[i]"
   ]
  },
  {
   "cell_type": "markdown",
   "metadata": {},
   "source": [
    "The list <code>l</code> contains the coefficients, the integer <code>i</code> is our index (through which we will manually iterate), and <code>x</code> is our current approximation of the value of the continued fraction.\n",
    "\n",
    "As we iterate, the value of <code>x</code> will get closer and closer to the correct value of the full expansion.  <br>We are attempting to evaluate\n",
    "\n",
    "$$x = 2 + \\cfrac{1}{1 + \\cfrac{1}{2 + \\cfrac{1}{1 + \\cfrac{1}{1 + \\cfrac{1}{4}}}}}\\;.$$\n",
    "\n",
    "Our current approximation is given in the box below."
   ]
  },
  {
   "cell_type": "code",
   "execution_count": null,
   "metadata": {},
   "outputs": [],
   "source": [
    "x"
   ]
  },
  {
   "cell_type": "markdown",
   "metadata": {},
   "source": [
    "Note that we assigned <code>x</code> to the final value in the list <code>l</code>.  This is because we evaluate the continued fraction from the inner-most denominator, outwards.  Hence, our first approximation is $4$, which we will use to compute the next denominator, $1+\\frac{1}{4}$, and then $1+\\cfrac{1}{1+\\cfrac{1}{4}}\\;$, etc.\n",
    "\n",
    "To do this, we decrease the index <code>i</code> by one (to move it to the previous coefficient in the list), and reassign to <code>x</code> the value of <code>l</code> at this new index, plus the reciprocal of its previous value."
   ]
  },
  {
   "cell_type": "code",
   "execution_count": null,
   "metadata": {},
   "outputs": [],
   "source": [
    "i = i-1\n",
    "\n",
    "x  = l[i]+1/x\n",
    "\n",
    "print(x)"
   ]
  },
  {
   "cell_type": "markdown",
   "metadata": {},
   "source": [
    "Running the above box should change the value of <code>x</code> from the initial convergent, $4$, to the next convergent, $1+\\frac{1}{4}=1.25$.\n",
    "\n",
    "Keep running the box below until <code>i</code> hits the intial index of zero, at which point we can read off the value of the full continued fraction."
   ]
  },
  {
   "cell_type": "code",
   "execution_count": null,
   "metadata": {},
   "outputs": [],
   "source": [
    "i = i-1\n",
    "\n",
    "x  = l[i]+1/x\n",
    "\n",
    "print(i)\n",
    "print(x)"
   ]
  },
  {
   "cell_type": "markdown",
   "metadata": {},
   "source": [
    "If this value looks familiar, it is because this continued fraction is formed from the first six coefficients of the <a href=\"https://oeis.org/A003417\">continued fraction of $e$</a>.  ($e$ is an irrational number, and so its full continued fraction expansion is infinite).\n",
    "\n",
    "Use the above code samples to write a function <code>continued_fraction_value</code> that accepts a sequence-type object (such as a list, tuple or range) containing the coefficients of a continued fraction, and then returns the value of the corresponding continued fraction (as a float).\n",
    "\n",
    "(<b>Hint: </b> The above code used an iterative process.  If we are to program this process into our function, then it will need to be undertaken automatically.  This will require the use of a loop.)"
   ]
  },
  {
   "cell_type": "code",
   "execution_count": null,
   "metadata": {},
   "outputs": [],
   "source": []
  },
  {
   "cell_type": "markdown",
   "metadata": {},
   "source": [
    "To test the validity of this function, we can call it for a list that repeatedly contains the value <samp>1</samp>.  We know from last week that continued fractions formed from these coefficients approximate the golden ration, $\\varphi$, which is equal to $\\frac{1+\\sqrt{5}}{2}\\approx 1.618\\ldots\\;$."
   ]
  },
  {
   "cell_type": "code",
   "execution_count": null,
   "metadata": {},
   "outputs": [],
   "source": [
    "ones = [1]*50\n",
    "\n",
    "print() #  Fill this print statement with a call to our function.\n",
    "print((1+5**0.5)/2)"
   ]
  },
  {
   "cell_type": "markdown",
   "metadata": {},
   "source": [
    "We now attempt to do the opposite process.  That is, construct a function that accepts a float <code>x</code>, and returns a list containing the coefficients of the continued fraction expansion of <code>x</code>.\n",
    "\n",
    "We can once again begin by considering a single step of this process, and then recasting it as an iterative process inside a function definition.\n",
    "\n",
    "Suppose we wished to find the continued fraction expansion of $e$.  For the first step of the expansion, we need a value $c$ such that $e=c+\\frac{1}{r}$, for some $0<r<1$.\n",
    "\n",
    "In the box below, assign the value $e$ to the variable <code>x</code>.  Find the values of $c$ and $r$, defined above, and assign them to the variables <code>c</code> and <code>r</code> (respectively)."
   ]
  },
  {
   "cell_type": "code",
   "execution_count": null,
   "metadata": {},
   "outputs": [],
   "source": [
    "# Write your assignments here.\n",
    "\n",
    "\n",
    "\n",
    "print(x)\n",
    "print(c)\n",
    "print(r)"
   ]
  },
  {
   "cell_type": "markdown",
   "metadata": {},
   "source": [
    "We should have received a print-out of <samp>2</samp> from the call <code><span style=\"color: rgb(0, 136, 0);\">print</span>(c)</code>.  This is consistent with the first coefficient given in the continued fraction expansion shown above.\n",
    "\n",
    "Before we perform the next step, we must construct a list to contain the value <code>c</code>.  After all, our function will eventually have to return a list of these coefficients.\n",
    "\n",
    "Create a list <code>l</code> containing only the value <code>c</code> that was assigned in the previous box."
   ]
  },
  {
   "cell_type": "code",
   "execution_count": null,
   "metadata": {},
   "outputs": [],
   "source": [
    "# Write your assignment here.\n",
    "\n",
    "print(l)"
   ]
  },
  {
   "cell_type": "markdown",
   "metadata": {},
   "source": [
    "Now that we have this initial coefficient saved for later, we can move on to evaluating the next coefficient.  Since <code>c</code> is an integer, we have gone as far as we can with it.  We therefore focus our attention on <code>r</code>.\n",
    "\n",
    "Deconstructing $x$ into $y+\\frac{1}{r}$ has meant that we now have $e = 2+\\frac{1}{r}$, completing the first step of the expansion.  It is clear that to move on to the next step, we must perform a similar deconstruction on $r$.\n",
    "\n",
    "In order that we can reuse the code from our previous step above, reassign the variable <code>x</code> to become equal to the current value of <code>r</code>."
   ]
  },
  {
   "cell_type": "code",
   "execution_count": null,
   "metadata": {},
   "outputs": [],
   "source": []
  },
  {
   "cell_type": "markdown",
   "metadata": {},
   "source": [
    "From this point, we can simply adapt the lines of code from our previous steps to assign new values to <code>c</code> and <code>r</code>.  In the box below, use the new value of <code>x</code> to define <code>c</code> and <code>r</code>, and add the new value of <code>c</code> to the list <code>l</code>."
   ]
  },
  {
   "cell_type": "code",
   "execution_count": null,
   "metadata": {},
   "outputs": [],
   "source": [
    "# Write your assigments here.\n",
    "\n",
    "\n",
    "\n",
    "print(x)\n",
    "print(c)\n",
    "print(r)\n",
    "print(l)"
   ]
  },
  {
   "cell_type": "markdown",
   "metadata": {},
   "source": [
    "We now see that the value of <samp>1</samp> has been returned to <code>c</code>, which is again consistent with the second coefficient in the expansion above.  The list <code>l</code> now contains the first two coefficients of the continued fraction expansion of $e$.\n",
    "\n",
    "This forms the basis of an iterative process that can be installed inside a function definition.  Using this principle, define a function <code>continued_fraction_coefficients</code> that accepts a float <code>x</code> and an integer <code>n</code>, and returns a list of the first <code>n</code> coefficients of the continued fraction expansion of <code>x</code>."
   ]
  },
  {
   "cell_type": "code",
   "execution_count": null,
   "metadata": {},
   "outputs": [],
   "source": []
  },
  {
   "cell_type": "markdown",
   "metadata": {},
   "source": [
    "We will test this function by generating the first seven coefficients of the continued fraction expansion of $\\pi$.  Run the code box below to evaluate these coefficients, and verify your answer by comparing it to the values listed on a <a href=\"https://oeis.org/A001203\">reputable online source</a>."
   ]
  },
  {
   "cell_type": "code",
   "execution_count": null,
   "metadata": {},
   "outputs": [],
   "source": []
  },
  {
   "cell_type": "markdown",
   "metadata": {},
   "source": [
    "Of course, since we have now constructed a function that maps a float to its continued fraction coefficients, and a function that maps continued fraction coefficients to the value of the corresponding fraction, we could also verify that these functions work by simply plugging the output of one straight into the other.\n",
    "\n",
    "Call the function <code>continued_fraction_value</code> for the list returned by the function <code>continued_fraction_coefficients</code>, when this function is itself called for $\\pi$ (with seven iterations)."
   ]
  },
  {
   "cell_type": "code",
   "execution_count": null,
   "metadata": {},
   "outputs": [],
   "source": []
  },
  {
   "cell_type": "markdown",
   "metadata": {},
   "source": [
    "This gives us a simple way of validating the code.  Since one function (effectively) does the opposite of the other, the result should be an approximation of $\\pi$.\n",
    "\n",
    "Since we used a truncation of the continued fraction expansion (seven steps, when the full expansion would be infinitely long), this value will not be perfectly accurate."
   ]
  },
  {
   "cell_type": "markdown",
   "metadata": {},
   "source": [
    "<h2> Exercise 4: <em>Obtain a GitHub Account</em> </h2>\n",
    "<h3> (Required for Week 5 Assessment) </h3>\n",
    "\n",
    "The final assignment for this week is for you to obtain and update a <a href=\"https://www.github.com/\">GitHub account</a>. \n",
    " You may wish to use your recently created professional email address to do so.\n",
    " \n",
    "During the Week 5 assessment, you will be asked to verify that you have done this by providing your the URL of your GitHub profile.  You will be assessed on:\n",
    "\n",
    "<ul>\n",
    "    <li> Having an account.</li>\n",
    "    <li> Having a personalised <a href=\"https://en.wikipedia.org/wiki/README\">README</a> file (<code>readme.md</code>).</li>\n",
    "    <li> Creating a repository called <code>MTH4000</code> that contains another README file.</li>\n",
    "</ul>"
   ]
  },
  {
   "cell_type": "markdown",
   "metadata": {},
   "source": [
    "<h2> Feedback </h2>\n",
    "\n",
    "Attempt all of these questions during Week 4. This worksheet will be discussed in detail on a Lab Walkthrough video to be posted to QMplus at the end of the week.\n",
    "\n",
    "If you have any problems or questions, or simply you would like some feedback, then you can:\n",
    "\n",
    "<ul>\n",
    "    <li> Ask the tutors present in your IT Lab sessions.</li><br>\n",
    "    <li> Ask the Student Forum on the module's QM Plus page.</li><br>\n",
    "    <li> Email the lecturers for assistance.</li>\n",
    "</ul>"
   ]
  }
 ],
 "metadata": {
  "kernelspec": {
   "display_name": "Python 3 (ipykernel)",
   "language": "python",
   "name": "python3"
  },
  "language_info": {
   "codemirror_mode": {
    "name": "ipython",
    "version": 3
   },
   "file_extension": ".py",
   "mimetype": "text/x-python",
   "name": "python",
   "nbconvert_exporter": "python",
   "pygments_lexer": "ipython3",
   "version": "3.11.9"
  }
 },
 "nbformat": 4,
 "nbformat_minor": 4
}
